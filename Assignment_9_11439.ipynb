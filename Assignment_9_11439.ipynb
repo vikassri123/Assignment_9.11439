{
  "nbformat": 4,
  "nbformat_minor": 0,
  "metadata": {
    "colab": {
      "name": "Assignment_9.11439_All_Solutions.ipynb",
      "version": "0.3.2",
      "provenance": [],
      "collapsed_sections": []
    },
    "kernelspec": {
      "display_name": "Python 3",
      "language": "python",
      "name": "python3"
    },
    "accelerator": "GPU"
  },
  "cells": [
    {
      "metadata": {
        "id": "dx13Yy9gJRB-",
        "colab_type": "text"
      },
      "cell_type": "markdown",
      "source": [
        "# Task 1:"
      ]
    },
    {
      "metadata": {
        "id": "S4-mn56wJRCK",
        "colab_type": "text"
      },
      "cell_type": "markdown",
      "source": [
        "### 1. You survey households in your area to find the average rent they are paying. Find the standard deviation from the following data: <p>$1550, $1700, $900, $850, $1000, $950.</p>"
      ]
    },
    {
      "metadata": {
        "id": "_xB7OkS_JRCa",
        "colab_type": "code",
        "colab": {
          "base_uri": "https://localhost:8080/",
          "height": 36
        },
        "outputId": "d21c7469-d86a-434f-b75f-038036d330d9"
      },
      "cell_type": "code",
      "source": [
        "import statistics as sts #Importing Statistics module\n",
        "data_list = [1550,1700,900,850,1000,950] #Creating list of the given data\n",
        "sts.stdev(data_list) #Calculating the standard deviation"
      ],
      "execution_count": 2,
      "outputs": [
        {
          "output_type": "execute_result",
          "data": {
            "text/plain": [
              "367.9900360969936"
            ]
          },
          "metadata": {
            "tags": []
          },
          "execution_count": 2
        }
      ]
    },
    {
      "metadata": {
        "id": "XRC8HksGJRDA",
        "colab_type": "text"
      },
      "cell_type": "markdown",
      "source": [
        "### 2. Find the variance for the following set of data representing trees in California (heights in feet): 3, 21, 98, 203, 17, 9"
      ]
    },
    {
      "metadata": {
        "id": "gmj72NvAJRDE",
        "colab_type": "code",
        "colab": {
          "base_uri": "https://localhost:8080/",
          "height": 36
        },
        "outputId": "656ef39d-5100-4f83-e208-f43fa0de1216"
      },
      "cell_type": "code",
      "source": [
        "data_list = [3, 21, 98, 203, 17, 9] #Creating list of the given data\n",
        "sts.variance(data_list) #Calculating the variance"
      ],
      "execution_count": 3,
      "outputs": [
        {
          "output_type": "execute_result",
          "data": {
            "text/plain": [
              "6219.9"
            ]
          },
          "metadata": {
            "tags": []
          },
          "execution_count": 3
        }
      ]
    },
    {
      "metadata": {
        "id": "NBtd8SiMJRDY",
        "colab_type": "text"
      },
      "cell_type": "markdown",
      "source": [
        "### 3. In a class on 100 students, 80 students passed in all subjects, 10 failed in one subject, 7 failed in two subjects and 3 failed in three subjects. Find the probability distribution of the variable for number of subjects a student from the given class has failed in."
      ]
    },
    {
      "metadata": {
        "id": "V7z81pIrJRDc",
        "colab_type": "code",
        "colab": {
          "base_uri": "https://localhost:8080/",
          "height": 74
        },
        "outputId": "3c510472-f345-42b2-c2af-82d08e3d17d9"
      },
      "cell_type": "code",
      "source": [
        "import pandas as pd\n",
        "\n",
        "class_strength = 100 #Given class strength is 100\n",
        "passed_all_subjects = 80 #Given, 80 students passed in all subjects\n",
        "fail_one_subject = 10 #Given, 10 students failed in one subject\n",
        "fail_two_subjects = 7 #Given, 7 students failed in two subjects \n",
        "fail_three_subjects = 3 #Given, 3 students failed in three subjects\n",
        "\n",
        "prob_fail_zero_subject = float(passed_all_subjects)/class_strength #The probability of student failing in 0 subjects, P(X=0)\n",
        "prob_fail_one_subject = float(fail_one_subject)/class_strength #The probability of students failing in 1 subjects, P(X=1)\n",
        "prob_fail_two_subjects = float(fail_two_subjects)/class_strength #The probability of students failing in 2 subjects, P(X=2)\n",
        "prob_fail_three_subjects = float(fail_three_subjects)/class_strength #The probability of students failing in 3 subjects, P(X=3)\n",
        "\n",
        "print(\"The probability distribution of the variable for number of subjects a student from the given class has failed in: \")\n",
        "\n",
        "prob_distribution = {'X': ['P(X)'],\n",
        "                     '0': [prob_fail_zero_subject],\n",
        "                     '1': [prob_fail_one_subject],\n",
        "                     '2': [prob_fail_two_subjects],\n",
        "                     '3': [prob_fail_three_subjects]}\n",
        "\n",
        "df = pd.DataFrame(data=prob_distribution)\n",
        "print(df[pd.unique(['X'] + df.columns.values.tolist()).tolist()].to_string(index=False))"
      ],
      "execution_count": 6,
      "outputs": [
        {
          "output_type": "stream",
          "text": [
            "The probability distribution of the variable for number of subjects a student from the given class has failed in: \n",
            "X    0    1     2     3\n",
            "P(X)  0.8  0.1  0.07  0.03\n"
          ],
          "name": "stdout"
        }
      ]
    },
    {
      "metadata": {
        "id": "C0pCkE7TJRDs",
        "colab_type": "text"
      },
      "cell_type": "markdown",
      "source": [
        "# Task 2:"
      ]
    },
    {
      "metadata": {
        "id": "NZex0UovJRDu",
        "colab_type": "text"
      },
      "cell_type": "markdown",
      "source": [
        "### 1. A test is conducted which is consisting of 20 MCQs (multiple choices questions) with every MCQ having its four options out of which only one is correct. Determine the probability that a person undertaking that test has answered exactly 5 questions wrong."
      ]
    },
    {
      "metadata": {
        "id": "tWr7Qmp0JRDw",
        "colab_type": "code",
        "colab": {
          "base_uri": "https://localhost:8080/",
          "height": 36
        },
        "outputId": "4c5e091e-0bbb-498a-c44a-1d6ce9835bcc"
      },
      "cell_type": "code",
      "source": [
        "import math\n",
        "n = 20 #Given, Test consists 20 MCQs\n",
        "m = 5 #Given, Exactly 5 questions wrong\n",
        "k = n-m #Number of correct answers\n",
        "\n",
        "MCQ_given_options = 4 #Given, MCQs has 4 options\n",
        "MCQ_correct_option = 1 #Given, MCQs has 1 correct option\n",
        "\n",
        "s = MCQ_correct_option/MCQ_given_options #Probability of right answer\n",
        "q = 1-s #Probability of wrong answer\n",
        "\n",
        "#Probability for a person undertaking that test has answered exactly 5 questions wrong using binomial distribution\n",
        "prob_five_answers = (math.factorial(n)/(math.factorial(k)*math.factorial(m)))*(s**15)*(q**5) #C(n,m)*(s**15)*(q**5) \n",
        "print('The probability that a person undertaking that test has answered exactly 5 questions wrong is: %.8f' % (prob_five_answers))"
      ],
      "execution_count": 7,
      "outputs": [
        {
          "output_type": "stream",
          "text": [
            "The probability that a person undertaking that test has answered exactly 5 questions wrong is: 0.00000343\n"
          ],
          "name": "stdout"
        }
      ]
    },
    {
      "metadata": {
        "id": "Z1Y2utINJREc",
        "colab_type": "text"
      },
      "cell_type": "markdown",
      "source": [
        "### 2. A die marked A to E is rolled 50 times. Find the probability of getting a “D” exactly 5 times."
      ]
    },
    {
      "metadata": {
        "id": "myaaWFU6JRE-",
        "colab_type": "code",
        "colab": {},
        "outputId": "02027946-19c7-4319-f3f6-c626d9f38079"
      },
      "cell_type": "code",
      "source": [
        "import math\n",
        "n = 50 #Number of trials attempted: A die rolled 50 times\n",
        "k = 5 #Number of successful attempts: 'D' exactly 5 times\n",
        "m = n-k #Number of failed attempts\n",
        "\n",
        "num_die_faces = 5 #Given, A die marked A to E\n",
        "num_D_face = 1 #Given die has one 'D' face\n",
        "\n",
        "s = num_D_face/num_die_faces #Probability of getting 'D'\n",
        "q = 1-s #Probability of not getting 'D' face\n",
        "\n",
        "#Probability of getting a “D” exactly 5 times\n",
        "prob_five_D = (math.factorial(n)/(math.factorial(k)* math.factorial(m)))*(s**5)*(q**45) #C(n,m)*(s**15)*(q**5) \n",
        "print(\"The probability of getting a D exactly 5 times:\",prob_five_D)"
      ],
      "execution_count": 0,
      "outputs": [
        {
          "output_type": "stream",
          "text": [
            "The probability of getting a D exactly 5 times: 0.029531204310524296\n"
          ],
          "name": "stdout"
        }
      ]
    },
    {
      "metadata": {
        "id": "qrpyHn7RJRFc",
        "colab_type": "text"
      },
      "cell_type": "markdown",
      "source": [
        "### 3. Two balls are drawn at random in succession without replacement from an urn containing 4 red balls and 6 black balls. Find the probabilities of all the possible outcomes."
      ]
    },
    {
      "metadata": {
        "id": "y3vqnVQEJRFe",
        "colab_type": "code",
        "colab": {},
        "outputId": "ef43d922-4679-45be-d45c-ac8219ac3ad2"
      },
      "cell_type": "code",
      "source": [
        "import math\n",
        "n = 10 #Total number of balls = 4 red balls + 6 black balls\n",
        "k = 2  #Given, Two balls are drawn\n",
        "\n",
        "#Defining the function with returns the combination\n",
        "def calc_combination(p,q):\n",
        "    return math.factorial(p)/(math.factorial(q)*math.factorial(p-q))\n",
        "\n",
        "#All possible outcomes: RR, BB, RB or BR\n",
        "\n",
        "#Probability of two balls drawn at random in succession without replacement and both are red balls P(RR)=C(4,2)*C(6,0)/C(10,2)\n",
        "prob_RR = calc_combination(4,2)*calc_combination(6,0)/calc_combination(10,2)\n",
        "print(\"Probability of 2 balls are drawn at random in succession without replacement and both are red balls: \",prob_RR)\n",
        "\n",
        "#Probability of two balls drawn at random in succession without replacement and both are black balls P(BB)=C(6,2)*C(4,0)/C(10,2)\n",
        "prob_BB = calc_combination(6,2)*calc_combination(4,0)/calc_combination(10,2) \n",
        "print(\"Probability of 2 balls are drawn at random in succession without replacement and both are black balls: \",prob_BB)\n",
        "\n",
        "#Probability of two balls drawn at random in succession without replacement and one is black ball and other is red ball P(BR)=C(6,1)*C(4,1)/C(10,2)\n",
        "prob_BR = calc_combination(6,1)*calc_combination(4,1)/calc_combination(10,2) \n",
        "print(\"Probability of 2 balls are drawn at random in succession without replacement and one is black ball and other is read ball: \",prob_BR)\n",
        "\n"
      ],
      "execution_count": 0,
      "outputs": [
        {
          "output_type": "stream",
          "text": [
            "Probability of 2 balls are drawn at random in succession without replacement and both are red balls:  0.13333333333333333\n",
            "Probability of 2 balls are drawn at random in succession without replacement and both are black balls:  0.3333333333333333\n",
            "Probability of 2 balls are drawn at random in succession without replacement and one is black ball and other is read ball:  0.5333333333333333\n"
          ],
          "name": "stdout"
        }
      ]
    },
    {
      "metadata": {
        "id": "ubtomuajJRFo",
        "colab_type": "code",
        "colab": {}
      },
      "cell_type": "code",
      "source": [
        ""
      ],
      "execution_count": 0,
      "outputs": []
    }
  ]
}